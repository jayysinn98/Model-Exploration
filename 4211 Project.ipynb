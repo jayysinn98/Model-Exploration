{
 "cells": [
  {
   "cell_type": "markdown",
   "id": "5a27f187",
   "metadata": {},
   "source": [
    "# Setting up the environment and importing the data"
   ]
  },
  {
   "cell_type": "code",
   "execution_count": 25,
   "id": "ce4d52da",
   "metadata": {},
   "outputs": [],
   "source": [
    "import pandas as pd\n",
    "from keras.models import Sequential\n",
    "from keras.layers import Dense\n",
    "from keras.layers import Dropout\n",
    "from keras.wrappers.scikit_learn import KerasRegressor\n",
    "from sklearn.model_selection import cross_val_score\n",
    "from sklearn.model_selection import KFold\n",
    "from sklearn.preprocessing import StandardScaler\n",
    "from sklearn.pipeline import Pipeline"
   ]
  },
  {
   "cell_type": "code",
   "execution_count": 4,
   "id": "91c40343",
   "metadata": {},
   "outputs": [],
   "source": [
    "train_xy = pd.read_csv(\"DSA4211/train-xy.csv\")\n",
    "test = pd.read_csv(\"DSA4211/test-x.csv\")"
   ]
  },
  {
   "cell_type": "code",
   "execution_count": 101,
   "id": "ca93f9f3",
   "metadata": {},
   "outputs": [
    {
     "data": {
      "text/html": [
       "<div>\n",
       "<style scoped>\n",
       "    .dataframe tbody tr th:only-of-type {\n",
       "        vertical-align: middle;\n",
       "    }\n",
       "\n",
       "    .dataframe tbody tr th {\n",
       "        vertical-align: top;\n",
       "    }\n",
       "\n",
       "    .dataframe thead th {\n",
       "        text-align: right;\n",
       "    }\n",
       "</style>\n",
       "<table border=\"1\" class=\"dataframe\">\n",
       "  <thead>\n",
       "    <tr style=\"text-align: right;\">\n",
       "      <th></th>\n",
       "      <th>Y</th>\n",
       "      <th>X1</th>\n",
       "      <th>X2</th>\n",
       "      <th>X3</th>\n",
       "      <th>X4</th>\n",
       "      <th>X5</th>\n",
       "      <th>X6</th>\n",
       "      <th>X7</th>\n",
       "      <th>X8</th>\n",
       "      <th>X9</th>\n",
       "      <th>...</th>\n",
       "      <th>X91</th>\n",
       "      <th>X92</th>\n",
       "      <th>X93</th>\n",
       "      <th>X94</th>\n",
       "      <th>X95</th>\n",
       "      <th>X96</th>\n",
       "      <th>X97</th>\n",
       "      <th>X98</th>\n",
       "      <th>X99</th>\n",
       "      <th>X100</th>\n",
       "    </tr>\n",
       "  </thead>\n",
       "  <tbody>\n",
       "    <tr>\n",
       "      <th>0</th>\n",
       "      <td>-2.836799</td>\n",
       "      <td>-0.358848</td>\n",
       "      <td>0.229182</td>\n",
       "      <td>0.699971</td>\n",
       "      <td>1.336190</td>\n",
       "      <td>0.984788</td>\n",
       "      <td>-0.425239</td>\n",
       "      <td>1.310004</td>\n",
       "      <td>0.215709</td>\n",
       "      <td>-1.389411</td>\n",
       "      <td>...</td>\n",
       "      <td>0.281741</td>\n",
       "      <td>-0.922837</td>\n",
       "      <td>1.053928</td>\n",
       "      <td>-1.051535</td>\n",
       "      <td>-0.056903</td>\n",
       "      <td>0.083066</td>\n",
       "      <td>0.192312</td>\n",
       "      <td>-0.039506</td>\n",
       "      <td>-0.806675</td>\n",
       "      <td>0.047861</td>\n",
       "    </tr>\n",
       "    <tr>\n",
       "      <th>1</th>\n",
       "      <td>-6.691350</td>\n",
       "      <td>1.081602</td>\n",
       "      <td>-0.455832</td>\n",
       "      <td>0.492078</td>\n",
       "      <td>1.408173</td>\n",
       "      <td>-0.197963</td>\n",
       "      <td>1.617531</td>\n",
       "      <td>-0.950866</td>\n",
       "      <td>-1.250921</td>\n",
       "      <td>-0.303370</td>\n",
       "      <td>...</td>\n",
       "      <td>2.570875</td>\n",
       "      <td>-1.028607</td>\n",
       "      <td>0.679621</td>\n",
       "      <td>-1.361717</td>\n",
       "      <td>0.144300</td>\n",
       "      <td>1.453990</td>\n",
       "      <td>-0.298901</td>\n",
       "      <td>-1.717027</td>\n",
       "      <td>-0.518633</td>\n",
       "      <td>-0.593781</td>\n",
       "    </tr>\n",
       "    <tr>\n",
       "      <th>2</th>\n",
       "      <td>2.211965</td>\n",
       "      <td>-0.959496</td>\n",
       "      <td>-0.430918</td>\n",
       "      <td>0.191239</td>\n",
       "      <td>-0.910758</td>\n",
       "      <td>-0.699870</td>\n",
       "      <td>-1.683374</td>\n",
       "      <td>0.719717</td>\n",
       "      <td>0.534322</td>\n",
       "      <td>0.669822</td>\n",
       "      <td>...</td>\n",
       "      <td>0.055120</td>\n",
       "      <td>-0.344222</td>\n",
       "      <td>0.092876</td>\n",
       "      <td>-0.513097</td>\n",
       "      <td>1.317656</td>\n",
       "      <td>0.138951</td>\n",
       "      <td>-1.900100</td>\n",
       "      <td>1.496698</td>\n",
       "      <td>-0.108403</td>\n",
       "      <td>0.823793</td>\n",
       "    </tr>\n",
       "    <tr>\n",
       "      <th>3</th>\n",
       "      <td>-3.404807</td>\n",
       "      <td>0.611808</td>\n",
       "      <td>0.186991</td>\n",
       "      <td>0.490763</td>\n",
       "      <td>0.488140</td>\n",
       "      <td>-0.847026</td>\n",
       "      <td>1.205372</td>\n",
       "      <td>1.462078</td>\n",
       "      <td>-1.410871</td>\n",
       "      <td>-1.152401</td>\n",
       "      <td>...</td>\n",
       "      <td>-0.036887</td>\n",
       "      <td>0.573940</td>\n",
       "      <td>1.462439</td>\n",
       "      <td>-2.483321</td>\n",
       "      <td>-0.173088</td>\n",
       "      <td>0.900508</td>\n",
       "      <td>0.441478</td>\n",
       "      <td>0.461693</td>\n",
       "      <td>0.791968</td>\n",
       "      <td>-0.225677</td>\n",
       "    </tr>\n",
       "    <tr>\n",
       "      <th>4</th>\n",
       "      <td>-8.606178</td>\n",
       "      <td>0.716633</td>\n",
       "      <td>-1.377330</td>\n",
       "      <td>-2.589308</td>\n",
       "      <td>0.444174</td>\n",
       "      <td>2.859679</td>\n",
       "      <td>-0.476884</td>\n",
       "      <td>0.558184</td>\n",
       "      <td>-0.476010</td>\n",
       "      <td>-1.181636</td>\n",
       "      <td>...</td>\n",
       "      <td>-1.734769</td>\n",
       "      <td>-0.556033</td>\n",
       "      <td>-1.528430</td>\n",
       "      <td>0.126828</td>\n",
       "      <td>2.164732</td>\n",
       "      <td>0.209919</td>\n",
       "      <td>-0.324924</td>\n",
       "      <td>-0.864985</td>\n",
       "      <td>-0.494360</td>\n",
       "      <td>-1.019706</td>\n",
       "    </tr>\n",
       "    <tr>\n",
       "      <th>...</th>\n",
       "      <td>...</td>\n",
       "      <td>...</td>\n",
       "      <td>...</td>\n",
       "      <td>...</td>\n",
       "      <td>...</td>\n",
       "      <td>...</td>\n",
       "      <td>...</td>\n",
       "      <td>...</td>\n",
       "      <td>...</td>\n",
       "      <td>...</td>\n",
       "      <td>...</td>\n",
       "      <td>...</td>\n",
       "      <td>...</td>\n",
       "      <td>...</td>\n",
       "      <td>...</td>\n",
       "      <td>...</td>\n",
       "      <td>...</td>\n",
       "      <td>...</td>\n",
       "      <td>...</td>\n",
       "      <td>...</td>\n",
       "      <td>...</td>\n",
       "    </tr>\n",
       "    <tr>\n",
       "      <th>995</th>\n",
       "      <td>-7.673689</td>\n",
       "      <td>0.223979</td>\n",
       "      <td>-2.227140</td>\n",
       "      <td>0.629109</td>\n",
       "      <td>0.371306</td>\n",
       "      <td>-0.623456</td>\n",
       "      <td>0.570507</td>\n",
       "      <td>-1.641528</td>\n",
       "      <td>0.345308</td>\n",
       "      <td>-1.138447</td>\n",
       "      <td>...</td>\n",
       "      <td>-1.086697</td>\n",
       "      <td>-0.093600</td>\n",
       "      <td>-0.285808</td>\n",
       "      <td>0.486591</td>\n",
       "      <td>1.565281</td>\n",
       "      <td>-0.500644</td>\n",
       "      <td>-0.758327</td>\n",
       "      <td>0.379794</td>\n",
       "      <td>0.508518</td>\n",
       "      <td>0.558814</td>\n",
       "    </tr>\n",
       "    <tr>\n",
       "      <th>996</th>\n",
       "      <td>-13.082628</td>\n",
       "      <td>1.809326</td>\n",
       "      <td>1.459093</td>\n",
       "      <td>0.158428</td>\n",
       "      <td>0.720212</td>\n",
       "      <td>-2.549219</td>\n",
       "      <td>0.050776</td>\n",
       "      <td>-0.569455</td>\n",
       "      <td>0.646585</td>\n",
       "      <td>-0.623185</td>\n",
       "      <td>...</td>\n",
       "      <td>-1.193381</td>\n",
       "      <td>-1.094384</td>\n",
       "      <td>0.141609</td>\n",
       "      <td>0.566846</td>\n",
       "      <td>0.742308</td>\n",
       "      <td>0.088769</td>\n",
       "      <td>-0.773133</td>\n",
       "      <td>-0.219185</td>\n",
       "      <td>-1.311174</td>\n",
       "      <td>1.753055</td>\n",
       "    </tr>\n",
       "    <tr>\n",
       "      <th>997</th>\n",
       "      <td>-4.411914</td>\n",
       "      <td>1.386181</td>\n",
       "      <td>-0.346397</td>\n",
       "      <td>1.236157</td>\n",
       "      <td>-0.324641</td>\n",
       "      <td>1.194937</td>\n",
       "      <td>-1.256203</td>\n",
       "      <td>-1.006312</td>\n",
       "      <td>0.356330</td>\n",
       "      <td>0.608835</td>\n",
       "      <td>...</td>\n",
       "      <td>0.207263</td>\n",
       "      <td>-0.422256</td>\n",
       "      <td>0.331662</td>\n",
       "      <td>0.288487</td>\n",
       "      <td>1.912556</td>\n",
       "      <td>-0.507740</td>\n",
       "      <td>0.500480</td>\n",
       "      <td>-0.943728</td>\n",
       "      <td>0.651914</td>\n",
       "      <td>1.540073</td>\n",
       "    </tr>\n",
       "    <tr>\n",
       "      <th>998</th>\n",
       "      <td>2.900659</td>\n",
       "      <td>0.811981</td>\n",
       "      <td>1.859064</td>\n",
       "      <td>-0.251681</td>\n",
       "      <td>-0.868155</td>\n",
       "      <td>-1.598939</td>\n",
       "      <td>0.586293</td>\n",
       "      <td>-2.088541</td>\n",
       "      <td>-0.519406</td>\n",
       "      <td>-0.495364</td>\n",
       "      <td>...</td>\n",
       "      <td>0.444277</td>\n",
       "      <td>-0.495758</td>\n",
       "      <td>-1.964753</td>\n",
       "      <td>0.734672</td>\n",
       "      <td>-0.146166</td>\n",
       "      <td>-0.052333</td>\n",
       "      <td>0.587487</td>\n",
       "      <td>-0.343477</td>\n",
       "      <td>-0.213943</td>\n",
       "      <td>0.182537</td>\n",
       "    </tr>\n",
       "    <tr>\n",
       "      <th>999</th>\n",
       "      <td>6.899348</td>\n",
       "      <td>-0.104767</td>\n",
       "      <td>1.123872</td>\n",
       "      <td>1.093857</td>\n",
       "      <td>0.246709</td>\n",
       "      <td>-0.323426</td>\n",
       "      <td>1.060075</td>\n",
       "      <td>1.165877</td>\n",
       "      <td>0.306508</td>\n",
       "      <td>-0.678595</td>\n",
       "      <td>...</td>\n",
       "      <td>0.165224</td>\n",
       "      <td>-0.949438</td>\n",
       "      <td>0.338731</td>\n",
       "      <td>-0.606249</td>\n",
       "      <td>2.410981</td>\n",
       "      <td>0.621478</td>\n",
       "      <td>0.868206</td>\n",
       "      <td>-0.441869</td>\n",
       "      <td>-0.002389</td>\n",
       "      <td>0.756689</td>\n",
       "    </tr>\n",
       "  </tbody>\n",
       "</table>\n",
       "<p>1000 rows × 101 columns</p>\n",
       "</div>"
      ],
      "text/plain": [
       "             Y        X1        X2        X3        X4        X5        X6  \\\n",
       "0    -2.836799 -0.358848  0.229182  0.699971  1.336190  0.984788 -0.425239   \n",
       "1    -6.691350  1.081602 -0.455832  0.492078  1.408173 -0.197963  1.617531   \n",
       "2     2.211965 -0.959496 -0.430918  0.191239 -0.910758 -0.699870 -1.683374   \n",
       "3    -3.404807  0.611808  0.186991  0.490763  0.488140 -0.847026  1.205372   \n",
       "4    -8.606178  0.716633 -1.377330 -2.589308  0.444174  2.859679 -0.476884   \n",
       "..         ...       ...       ...       ...       ...       ...       ...   \n",
       "995  -7.673689  0.223979 -2.227140  0.629109  0.371306 -0.623456  0.570507   \n",
       "996 -13.082628  1.809326  1.459093  0.158428  0.720212 -2.549219  0.050776   \n",
       "997  -4.411914  1.386181 -0.346397  1.236157 -0.324641  1.194937 -1.256203   \n",
       "998   2.900659  0.811981  1.859064 -0.251681 -0.868155 -1.598939  0.586293   \n",
       "999   6.899348 -0.104767  1.123872  1.093857  0.246709 -0.323426  1.060075   \n",
       "\n",
       "           X7        X8        X9  ...       X91       X92       X93  \\\n",
       "0    1.310004  0.215709 -1.389411  ...  0.281741 -0.922837  1.053928   \n",
       "1   -0.950866 -1.250921 -0.303370  ...  2.570875 -1.028607  0.679621   \n",
       "2    0.719717  0.534322  0.669822  ...  0.055120 -0.344222  0.092876   \n",
       "3    1.462078 -1.410871 -1.152401  ... -0.036887  0.573940  1.462439   \n",
       "4    0.558184 -0.476010 -1.181636  ... -1.734769 -0.556033 -1.528430   \n",
       "..        ...       ...       ...  ...       ...       ...       ...   \n",
       "995 -1.641528  0.345308 -1.138447  ... -1.086697 -0.093600 -0.285808   \n",
       "996 -0.569455  0.646585 -0.623185  ... -1.193381 -1.094384  0.141609   \n",
       "997 -1.006312  0.356330  0.608835  ...  0.207263 -0.422256  0.331662   \n",
       "998 -2.088541 -0.519406 -0.495364  ...  0.444277 -0.495758 -1.964753   \n",
       "999  1.165877  0.306508 -0.678595  ...  0.165224 -0.949438  0.338731   \n",
       "\n",
       "          X94       X95       X96       X97       X98       X99      X100  \n",
       "0   -1.051535 -0.056903  0.083066  0.192312 -0.039506 -0.806675  0.047861  \n",
       "1   -1.361717  0.144300  1.453990 -0.298901 -1.717027 -0.518633 -0.593781  \n",
       "2   -0.513097  1.317656  0.138951 -1.900100  1.496698 -0.108403  0.823793  \n",
       "3   -2.483321 -0.173088  0.900508  0.441478  0.461693  0.791968 -0.225677  \n",
       "4    0.126828  2.164732  0.209919 -0.324924 -0.864985 -0.494360 -1.019706  \n",
       "..        ...       ...       ...       ...       ...       ...       ...  \n",
       "995  0.486591  1.565281 -0.500644 -0.758327  0.379794  0.508518  0.558814  \n",
       "996  0.566846  0.742308  0.088769 -0.773133 -0.219185 -1.311174  1.753055  \n",
       "997  0.288487  1.912556 -0.507740  0.500480 -0.943728  0.651914  1.540073  \n",
       "998  0.734672 -0.146166 -0.052333  0.587487 -0.343477 -0.213943  0.182537  \n",
       "999 -0.606249  2.410981  0.621478  0.868206 -0.441869 -0.002389  0.756689  \n",
       "\n",
       "[1000 rows x 101 columns]"
      ]
     },
     "execution_count": 101,
     "metadata": {},
     "output_type": "execute_result"
    }
   ],
   "source": [
    "train_xy"
   ]
  },
  {
   "cell_type": "code",
   "execution_count": 102,
   "id": "99964555",
   "metadata": {},
   "outputs": [
    {
     "data": {
      "text/html": [
       "<div>\n",
       "<style scoped>\n",
       "    .dataframe tbody tr th:only-of-type {\n",
       "        vertical-align: middle;\n",
       "    }\n",
       "\n",
       "    .dataframe tbody tr th {\n",
       "        vertical-align: top;\n",
       "    }\n",
       "\n",
       "    .dataframe thead th {\n",
       "        text-align: right;\n",
       "    }\n",
       "</style>\n",
       "<table border=\"1\" class=\"dataframe\">\n",
       "  <thead>\n",
       "    <tr style=\"text-align: right;\">\n",
       "      <th></th>\n",
       "      <th>X1</th>\n",
       "      <th>X2</th>\n",
       "      <th>X3</th>\n",
       "      <th>X4</th>\n",
       "      <th>X5</th>\n",
       "      <th>X6</th>\n",
       "      <th>X7</th>\n",
       "      <th>X8</th>\n",
       "      <th>X9</th>\n",
       "      <th>X10</th>\n",
       "      <th>...</th>\n",
       "      <th>X91</th>\n",
       "      <th>X92</th>\n",
       "      <th>X93</th>\n",
       "      <th>X94</th>\n",
       "      <th>X95</th>\n",
       "      <th>X96</th>\n",
       "      <th>X97</th>\n",
       "      <th>X98</th>\n",
       "      <th>X99</th>\n",
       "      <th>X100</th>\n",
       "    </tr>\n",
       "  </thead>\n",
       "  <tbody>\n",
       "    <tr>\n",
       "      <th>0</th>\n",
       "      <td>-0.244991</td>\n",
       "      <td>0.892978</td>\n",
       "      <td>0.572407</td>\n",
       "      <td>0.132279</td>\n",
       "      <td>0.846642</td>\n",
       "      <td>0.096176</td>\n",
       "      <td>0.892746</td>\n",
       "      <td>0.924040</td>\n",
       "      <td>-0.434594</td>\n",
       "      <td>-1.144520</td>\n",
       "      <td>...</td>\n",
       "      <td>0.906264</td>\n",
       "      <td>1.901898</td>\n",
       "      <td>0.451177</td>\n",
       "      <td>0.292590</td>\n",
       "      <td>0.629340</td>\n",
       "      <td>-0.222918</td>\n",
       "      <td>0.246944</td>\n",
       "      <td>0.344474</td>\n",
       "      <td>0.135516</td>\n",
       "      <td>0.738561</td>\n",
       "    </tr>\n",
       "    <tr>\n",
       "      <th>1</th>\n",
       "      <td>-1.616918</td>\n",
       "      <td>-1.113591</td>\n",
       "      <td>-1.202111</td>\n",
       "      <td>0.427342</td>\n",
       "      <td>1.022719</td>\n",
       "      <td>-1.012529</td>\n",
       "      <td>-1.518107</td>\n",
       "      <td>2.199862</td>\n",
       "      <td>0.327463</td>\n",
       "      <td>-1.338159</td>\n",
       "      <td>...</td>\n",
       "      <td>-1.578023</td>\n",
       "      <td>0.824843</td>\n",
       "      <td>-0.478459</td>\n",
       "      <td>1.914525</td>\n",
       "      <td>-0.487439</td>\n",
       "      <td>1.386022</td>\n",
       "      <td>-0.212164</td>\n",
       "      <td>0.221503</td>\n",
       "      <td>0.036357</td>\n",
       "      <td>0.511010</td>\n",
       "    </tr>\n",
       "    <tr>\n",
       "      <th>2</th>\n",
       "      <td>-2.261368</td>\n",
       "      <td>0.690216</td>\n",
       "      <td>-1.228782</td>\n",
       "      <td>-0.279688</td>\n",
       "      <td>0.832744</td>\n",
       "      <td>0.103335</td>\n",
       "      <td>-0.074730</td>\n",
       "      <td>0.616347</td>\n",
       "      <td>-0.085210</td>\n",
       "      <td>0.176623</td>\n",
       "      <td>...</td>\n",
       "      <td>-0.227196</td>\n",
       "      <td>1.933549</td>\n",
       "      <td>0.424807</td>\n",
       "      <td>-0.351631</td>\n",
       "      <td>-1.532469</td>\n",
       "      <td>-2.051089</td>\n",
       "      <td>1.021578</td>\n",
       "      <td>1.738350</td>\n",
       "      <td>-0.986476</td>\n",
       "      <td>-0.678784</td>\n",
       "    </tr>\n",
       "    <tr>\n",
       "      <th>3</th>\n",
       "      <td>1.370109</td>\n",
       "      <td>-0.121966</td>\n",
       "      <td>0.911579</td>\n",
       "      <td>-1.684504</td>\n",
       "      <td>0.243944</td>\n",
       "      <td>0.004523</td>\n",
       "      <td>-0.690897</td>\n",
       "      <td>-0.584691</td>\n",
       "      <td>2.780507</td>\n",
       "      <td>1.696416</td>\n",
       "      <td>...</td>\n",
       "      <td>0.197386</td>\n",
       "      <td>1.596440</td>\n",
       "      <td>-0.143426</td>\n",
       "      <td>1.838676</td>\n",
       "      <td>-0.090792</td>\n",
       "      <td>0.501838</td>\n",
       "      <td>0.720952</td>\n",
       "      <td>-0.822403</td>\n",
       "      <td>-0.787266</td>\n",
       "      <td>-0.553230</td>\n",
       "    </tr>\n",
       "    <tr>\n",
       "      <th>4</th>\n",
       "      <td>1.983610</td>\n",
       "      <td>0.037572</td>\n",
       "      <td>0.573795</td>\n",
       "      <td>-0.078239</td>\n",
       "      <td>1.561335</td>\n",
       "      <td>-0.276647</td>\n",
       "      <td>-0.741170</td>\n",
       "      <td>0.970027</td>\n",
       "      <td>0.124756</td>\n",
       "      <td>0.855003</td>\n",
       "      <td>...</td>\n",
       "      <td>1.380206</td>\n",
       "      <td>-1.856744</td>\n",
       "      <td>0.403040</td>\n",
       "      <td>0.251322</td>\n",
       "      <td>-0.587490</td>\n",
       "      <td>-1.399546</td>\n",
       "      <td>0.589233</td>\n",
       "      <td>-0.675056</td>\n",
       "      <td>-0.308820</td>\n",
       "      <td>0.742988</td>\n",
       "    </tr>\n",
       "    <tr>\n",
       "      <th>...</th>\n",
       "      <td>...</td>\n",
       "      <td>...</td>\n",
       "      <td>...</td>\n",
       "      <td>...</td>\n",
       "      <td>...</td>\n",
       "      <td>...</td>\n",
       "      <td>...</td>\n",
       "      <td>...</td>\n",
       "      <td>...</td>\n",
       "      <td>...</td>\n",
       "      <td>...</td>\n",
       "      <td>...</td>\n",
       "      <td>...</td>\n",
       "      <td>...</td>\n",
       "      <td>...</td>\n",
       "      <td>...</td>\n",
       "      <td>...</td>\n",
       "      <td>...</td>\n",
       "      <td>...</td>\n",
       "      <td>...</td>\n",
       "      <td>...</td>\n",
       "    </tr>\n",
       "    <tr>\n",
       "      <th>9995</th>\n",
       "      <td>-0.819463</td>\n",
       "      <td>-0.132225</td>\n",
       "      <td>1.987259</td>\n",
       "      <td>1.482543</td>\n",
       "      <td>-0.153700</td>\n",
       "      <td>-1.182747</td>\n",
       "      <td>1.134379</td>\n",
       "      <td>1.433691</td>\n",
       "      <td>-1.750373</td>\n",
       "      <td>1.535513</td>\n",
       "      <td>...</td>\n",
       "      <td>2.253787</td>\n",
       "      <td>0.127843</td>\n",
       "      <td>1.099243</td>\n",
       "      <td>-0.027314</td>\n",
       "      <td>0.508060</td>\n",
       "      <td>-0.291674</td>\n",
       "      <td>0.142223</td>\n",
       "      <td>0.334328</td>\n",
       "      <td>0.195834</td>\n",
       "      <td>0.886085</td>\n",
       "    </tr>\n",
       "    <tr>\n",
       "      <th>9996</th>\n",
       "      <td>-1.441815</td>\n",
       "      <td>-0.520422</td>\n",
       "      <td>-1.338284</td>\n",
       "      <td>-0.720087</td>\n",
       "      <td>1.778857</td>\n",
       "      <td>0.042734</td>\n",
       "      <td>0.269349</td>\n",
       "      <td>-1.718217</td>\n",
       "      <td>1.115974</td>\n",
       "      <td>-0.617458</td>\n",
       "      <td>...</td>\n",
       "      <td>-0.147480</td>\n",
       "      <td>-1.023812</td>\n",
       "      <td>-0.233869</td>\n",
       "      <td>-0.013129</td>\n",
       "      <td>0.047350</td>\n",
       "      <td>-0.261349</td>\n",
       "      <td>0.963827</td>\n",
       "      <td>-1.238524</td>\n",
       "      <td>-1.672828</td>\n",
       "      <td>-0.074160</td>\n",
       "    </tr>\n",
       "    <tr>\n",
       "      <th>9997</th>\n",
       "      <td>0.079223</td>\n",
       "      <td>0.988820</td>\n",
       "      <td>0.407241</td>\n",
       "      <td>-0.142056</td>\n",
       "      <td>-0.633980</td>\n",
       "      <td>0.800763</td>\n",
       "      <td>-0.535756</td>\n",
       "      <td>1.134397</td>\n",
       "      <td>-1.387698</td>\n",
       "      <td>0.321071</td>\n",
       "      <td>...</td>\n",
       "      <td>-0.881513</td>\n",
       "      <td>0.323094</td>\n",
       "      <td>-0.653722</td>\n",
       "      <td>0.269482</td>\n",
       "      <td>-0.038042</td>\n",
       "      <td>-0.617090</td>\n",
       "      <td>-0.236006</td>\n",
       "      <td>0.230748</td>\n",
       "      <td>-0.501167</td>\n",
       "      <td>-0.072894</td>\n",
       "    </tr>\n",
       "    <tr>\n",
       "      <th>9998</th>\n",
       "      <td>-0.768939</td>\n",
       "      <td>-0.921212</td>\n",
       "      <td>-0.260985</td>\n",
       "      <td>-0.102339</td>\n",
       "      <td>1.568072</td>\n",
       "      <td>0.084913</td>\n",
       "      <td>0.980283</td>\n",
       "      <td>0.481204</td>\n",
       "      <td>0.823396</td>\n",
       "      <td>0.033000</td>\n",
       "      <td>...</td>\n",
       "      <td>-0.475284</td>\n",
       "      <td>-0.556861</td>\n",
       "      <td>1.729765</td>\n",
       "      <td>0.096702</td>\n",
       "      <td>1.169640</td>\n",
       "      <td>0.388464</td>\n",
       "      <td>-1.440724</td>\n",
       "      <td>-2.590144</td>\n",
       "      <td>1.665079</td>\n",
       "      <td>-0.352464</td>\n",
       "    </tr>\n",
       "    <tr>\n",
       "      <th>9999</th>\n",
       "      <td>0.401373</td>\n",
       "      <td>-0.834319</td>\n",
       "      <td>-0.590497</td>\n",
       "      <td>0.030925</td>\n",
       "      <td>-0.789554</td>\n",
       "      <td>-0.905707</td>\n",
       "      <td>0.130780</td>\n",
       "      <td>-0.945585</td>\n",
       "      <td>1.302955</td>\n",
       "      <td>-2.144070</td>\n",
       "      <td>...</td>\n",
       "      <td>-0.194804</td>\n",
       "      <td>1.357549</td>\n",
       "      <td>-0.758704</td>\n",
       "      <td>0.074982</td>\n",
       "      <td>-1.068588</td>\n",
       "      <td>-0.918793</td>\n",
       "      <td>-0.572129</td>\n",
       "      <td>0.345093</td>\n",
       "      <td>-1.409649</td>\n",
       "      <td>0.043278</td>\n",
       "    </tr>\n",
       "  </tbody>\n",
       "</table>\n",
       "<p>10000 rows × 100 columns</p>\n",
       "</div>"
      ],
      "text/plain": [
       "            X1        X2        X3        X4        X5        X6        X7  \\\n",
       "0    -0.244991  0.892978  0.572407  0.132279  0.846642  0.096176  0.892746   \n",
       "1    -1.616918 -1.113591 -1.202111  0.427342  1.022719 -1.012529 -1.518107   \n",
       "2    -2.261368  0.690216 -1.228782 -0.279688  0.832744  0.103335 -0.074730   \n",
       "3     1.370109 -0.121966  0.911579 -1.684504  0.243944  0.004523 -0.690897   \n",
       "4     1.983610  0.037572  0.573795 -0.078239  1.561335 -0.276647 -0.741170   \n",
       "...        ...       ...       ...       ...       ...       ...       ...   \n",
       "9995 -0.819463 -0.132225  1.987259  1.482543 -0.153700 -1.182747  1.134379   \n",
       "9996 -1.441815 -0.520422 -1.338284 -0.720087  1.778857  0.042734  0.269349   \n",
       "9997  0.079223  0.988820  0.407241 -0.142056 -0.633980  0.800763 -0.535756   \n",
       "9998 -0.768939 -0.921212 -0.260985 -0.102339  1.568072  0.084913  0.980283   \n",
       "9999  0.401373 -0.834319 -0.590497  0.030925 -0.789554 -0.905707  0.130780   \n",
       "\n",
       "            X8        X9       X10  ...       X91       X92       X93  \\\n",
       "0     0.924040 -0.434594 -1.144520  ...  0.906264  1.901898  0.451177   \n",
       "1     2.199862  0.327463 -1.338159  ... -1.578023  0.824843 -0.478459   \n",
       "2     0.616347 -0.085210  0.176623  ... -0.227196  1.933549  0.424807   \n",
       "3    -0.584691  2.780507  1.696416  ...  0.197386  1.596440 -0.143426   \n",
       "4     0.970027  0.124756  0.855003  ...  1.380206 -1.856744  0.403040   \n",
       "...        ...       ...       ...  ...       ...       ...       ...   \n",
       "9995  1.433691 -1.750373  1.535513  ...  2.253787  0.127843  1.099243   \n",
       "9996 -1.718217  1.115974 -0.617458  ... -0.147480 -1.023812 -0.233869   \n",
       "9997  1.134397 -1.387698  0.321071  ... -0.881513  0.323094 -0.653722   \n",
       "9998  0.481204  0.823396  0.033000  ... -0.475284 -0.556861  1.729765   \n",
       "9999 -0.945585  1.302955 -2.144070  ... -0.194804  1.357549 -0.758704   \n",
       "\n",
       "           X94       X95       X96       X97       X98       X99      X100  \n",
       "0     0.292590  0.629340 -0.222918  0.246944  0.344474  0.135516  0.738561  \n",
       "1     1.914525 -0.487439  1.386022 -0.212164  0.221503  0.036357  0.511010  \n",
       "2    -0.351631 -1.532469 -2.051089  1.021578  1.738350 -0.986476 -0.678784  \n",
       "3     1.838676 -0.090792  0.501838  0.720952 -0.822403 -0.787266 -0.553230  \n",
       "4     0.251322 -0.587490 -1.399546  0.589233 -0.675056 -0.308820  0.742988  \n",
       "...        ...       ...       ...       ...       ...       ...       ...  \n",
       "9995 -0.027314  0.508060 -0.291674  0.142223  0.334328  0.195834  0.886085  \n",
       "9996 -0.013129  0.047350 -0.261349  0.963827 -1.238524 -1.672828 -0.074160  \n",
       "9997  0.269482 -0.038042 -0.617090 -0.236006  0.230748 -0.501167 -0.072894  \n",
       "9998  0.096702  1.169640  0.388464 -1.440724 -2.590144  1.665079 -0.352464  \n",
       "9999  0.074982 -1.068588 -0.918793 -0.572129  0.345093 -1.409649  0.043278  \n",
       "\n",
       "[10000 rows x 100 columns]"
      ]
     },
     "execution_count": 102,
     "metadata": {},
     "output_type": "execute_result"
    }
   ],
   "source": [
    "test"
   ]
  },
  {
   "cell_type": "markdown",
   "id": "f7b8e195",
   "metadata": {},
   "source": [
    "# Data Cleaning"
   ]
  },
  {
   "cell_type": "markdown",
   "id": "ddb31700",
   "metadata": {},
   "source": [
    "X30 and X40 are highly correlated, so I will drop the latter.\n",
    "\n",
    "X55 contains mostly NAs and shall be dropped."
   ]
  },
  {
   "cell_type": "code",
   "execution_count": 5,
   "id": "dfdb9997",
   "metadata": {},
   "outputs": [],
   "source": [
    "train_xy1 = train_xy.drop(['X40','X55'],axis = 1)"
   ]
  },
  {
   "cell_type": "markdown",
   "id": "a09fac09",
   "metadata": {},
   "source": [
    "# Splitting the data into training and validation set"
   ]
  },
  {
   "cell_type": "code",
   "execution_count": 6,
   "id": "d888f6b6",
   "metadata": {},
   "outputs": [],
   "source": [
    "X = train_xy1.iloc[:,1:100]\n",
    "y = train_xy.iloc[:,0]"
   ]
  },
  {
   "cell_type": "code",
   "execution_count": 7,
   "id": "b6a9a033",
   "metadata": {},
   "outputs": [],
   "source": [
    "from sklearn.model_selection import train_test_split\n",
    "X_train, X_test, y_train, y_test = train_test_split(X, y, test_size=0.20, random_state=42)"
   ]
  },
  {
   "cell_type": "markdown",
   "id": "d5efb33f",
   "metadata": {},
   "source": [
    "# Building the Neural Network Model"
   ]
  },
  {
   "cell_type": "markdown",
   "id": "e45cdb57",
   "metadata": {},
   "source": [
    "Each of the 98 variables shall be an input node.\n",
    "\n",
    "Based on previous models (not in this notebook), data is not linearly seperable, hence a hidden layer will be added.\n",
    "\n",
    "This hidden layer will contain 49 neurons, obtained by taking the mean of the number of input and output neurons.\n",
    "\n",
    "Since this is a regression problem, ReLU activation function and Mean Squared Error loss is used."
   ]
  },
  {
   "cell_type": "code",
   "execution_count": 8,
   "id": "2b44bbb9",
   "metadata": {},
   "outputs": [],
   "source": [
    "def build_model(): \n",
    "    model = Sequential()\n",
    "    model.add(Dense(98, input_dim=98, kernel_initializer='normal', activation='relu'))\n",
    "    model.add(Dense(49, kernel_initializer='normal', activation='relu'))\n",
    "    model.add(Dense(1, kernel_initializer='normal'))\n",
    "    model.compile(loss='mean_squared_error', optimizer='adam')\n",
    "    return model"
   ]
  },
  {
   "cell_type": "code",
   "execution_count": null,
   "id": "445f39b2",
   "metadata": {},
   "outputs": [],
   "source": [
    "estimator = KerasRegressor(build_fn=build_model, epochs=100, batch_size=5, verbose=0)\n",
    "estimator.fit(X_train, y_train)\n",
    "training_prediction = estimator.predict(X_train)\n",
    "training_prediction"
   ]
  },
  {
   "cell_type": "markdown",
   "id": "1ddb9a49",
   "metadata": {},
   "source": [
    "# Checking initial model performance"
   ]
  },
  {
   "cell_type": "code",
   "execution_count": 15,
   "id": "1b6c240a",
   "metadata": {},
   "outputs": [],
   "source": [
    "rss = sum((training_prediction-y_train)**2)\n",
    "tss = sum((y_train - (sum(y_train)/len(y_train)))**2)\n",
    "rsq = 1 - (rss/tss)"
   ]
  },
  {
   "cell_type": "code",
   "execution_count": 16,
   "id": "d10f6222",
   "metadata": {},
   "outputs": [
    {
     "data": {
      "text/plain": [
       "0.9965658536562861"
      ]
     },
     "execution_count": 16,
     "metadata": {},
     "output_type": "execute_result"
    }
   ],
   "source": [
    "rsq"
   ]
  },
  {
   "cell_type": "markdown",
   "id": "6d442827",
   "metadata": {},
   "source": [
    "Training R-squared of 0.997 looks very good. How about on the validation set?"
   ]
  },
  {
   "cell_type": "code",
   "execution_count": 20,
   "id": "a8e4c281",
   "metadata": {},
   "outputs": [],
   "source": [
    "validation_prediction = estimator.predict(X_test)\n",
    "rss = sum((validation_prediction-y_test)**2)\n",
    "tss = sum((y_test - (sum(y_test)/len(y_test)))**2)\n",
    "rsq = 1 - (rss/tss)"
   ]
  },
  {
   "cell_type": "code",
   "execution_count": 21,
   "id": "d28177dc",
   "metadata": {},
   "outputs": [
    {
     "data": {
      "text/plain": [
       "0.4680385401096595"
      ]
     },
     "execution_count": 21,
     "metadata": {},
     "output_type": "execute_result"
    }
   ],
   "source": [
    "rsq"
   ]
  },
  {
   "cell_type": "markdown",
   "id": "d42ba0fc",
   "metadata": {},
   "source": [
    "Major drop in R-squared, indicating serious overfitting. \n",
    "\n",
    "I will edit the model by removing the hidden layer, which may be a source of overfitting."
   ]
  },
  {
   "cell_type": "markdown",
   "id": "463c4e5c",
   "metadata": {},
   "source": [
    "# Adjusted Neural Network"
   ]
  },
  {
   "cell_type": "code",
   "execution_count": 64,
   "id": "d9fd23fa",
   "metadata": {},
   "outputs": [],
   "source": [
    "def build_model2(): \n",
    "    model = Sequential()\n",
    "    model.add(Dense(98, input_dim=98, kernel_initializer='normal', activation='relu'))\n",
    "    #model.add(Dense(49, kernel_initializer='normal', activation='relu'))\n",
    "    model.add(Dense(1, kernel_initializer='normal'))\n",
    "    model.compile(loss='mean_squared_error', optimizer='adam')\n",
    "    return model"
   ]
  },
  {
   "cell_type": "code",
   "execution_count": 65,
   "id": "ef5d23ee",
   "metadata": {},
   "outputs": [],
   "source": [
    "estimator = KerasRegressor(build_fn=build_model2, epochs=100, batch_size=5, verbose=0)\n",
    "estimator.fit(X_train, y_train)\n",
    "training_prediction = estimator.predict(X_train)\n",
    "validation_prediction = estimator.predict(X_test)"
   ]
  },
  {
   "cell_type": "code",
   "execution_count": 66,
   "id": "807da81d",
   "metadata": {},
   "outputs": [
    {
     "name": "stdout",
     "output_type": "stream",
     "text": [
      "The training R-squared is : 0.9962254827554976\n"
     ]
    }
   ],
   "source": [
    "rss = sum((training_prediction-y_train)**2)\n",
    "tss = sum((y_train - (sum(y_train)/len(y_train)))**2)\n",
    "rsq = 1 - (rss/tss)\n",
    "print('The training R-squared is :', rsq)"
   ]
  },
  {
   "cell_type": "code",
   "execution_count": 67,
   "id": "65799eb5",
   "metadata": {},
   "outputs": [
    {
     "name": "stdout",
     "output_type": "stream",
     "text": [
      "The validation R-squared is : 0.5079300946329504\n"
     ]
    }
   ],
   "source": [
    "rss = sum((validation_prediction-y_test)**2)\n",
    "tss = sum((y_test - (sum(y_test)/len(y_test)))**2)\n",
    "rsq = 1 - (rss/tss)\n",
    "print('The validation R-squared is :', rsq)"
   ]
  },
  {
   "cell_type": "markdown",
   "id": "ae0ba077",
   "metadata": {},
   "source": [
    "# Regularized and Adjusted Neural Network"
   ]
  },
  {
   "cell_type": "markdown",
   "id": "58286141",
   "metadata": {},
   "source": [
    "Let's see if adding drop out will help."
   ]
  },
  {
   "cell_type": "code",
   "execution_count": 111,
   "id": "f5e454c5",
   "metadata": {},
   "outputs": [],
   "source": [
    "def build_model3(): \n",
    "    model = Sequential()\n",
    "    model.add(Dropout(0.2, input_shape=(98,)))\n",
    "    model.add(Dense(98, input_dim=98, kernel_initializer='normal', activation='relu'))\n",
    "    #model.add(Dense(49, kernel_initializer='normal', activation='relu'))\n",
    "    model.add(Dense(1, kernel_initializer='normal'))\n",
    "    model.compile(loss='mean_squared_error', optimizer='adam')\n",
    "    return model"
   ]
  },
  {
   "cell_type": "code",
   "execution_count": 112,
   "id": "4f0b74cc",
   "metadata": {},
   "outputs": [],
   "source": [
    "estimator = KerasRegressor(build_fn=build_model2, epochs=100, batch_size=5, verbose=0)\n",
    "estimator.fit(X_train, y_train)\n",
    "training_prediction = estimator.predict(X_train)\n",
    "validation_prediction = estimator.predict(X_test)"
   ]
  },
  {
   "cell_type": "code",
   "execution_count": 113,
   "id": "c583f839",
   "metadata": {},
   "outputs": [
    {
     "name": "stdout",
     "output_type": "stream",
     "text": [
      "The training R-squared is : 0.9947759623057474\n"
     ]
    }
   ],
   "source": [
    "rss = sum((training_prediction-y_train)**2)\n",
    "tss = sum((y_train - (sum(y_train)/len(y_train)))**2)\n",
    "rsq = 1 - (rss/tss)\n",
    "print('The training R-squared is :', rsq)"
   ]
  },
  {
   "cell_type": "code",
   "execution_count": 114,
   "id": "caaeeb10",
   "metadata": {},
   "outputs": [
    {
     "name": "stdout",
     "output_type": "stream",
     "text": [
      "The validation R-squared is : 0.4858238887488415\n"
     ]
    }
   ],
   "source": [
    "rss = sum((validation_prediction-y_test)**2)\n",
    "tss = sum((y_test - (sum(y_test)/len(y_test)))**2)\n",
    "rsq = 1 - (rss/tss)\n",
    "print('The validation R-squared is :', rsq)"
   ]
  },
  {
   "cell_type": "markdown",
   "id": "81b56ed5",
   "metadata": {},
   "source": [
    "Validation R-squared still very low for both. Perhaps a simpler model should be used."
   ]
  },
  {
   "cell_type": "markdown",
   "id": "5d4ed1c2",
   "metadata": {},
   "source": [
    "# Lasso"
   ]
  },
  {
   "cell_type": "code",
   "execution_count": 78,
   "id": "ec9fb2b2",
   "metadata": {},
   "outputs": [],
   "source": [
    "from sklearn.linear_model import LassoCV"
   ]
  },
  {
   "cell_type": "markdown",
   "id": "de326a74",
   "metadata": {},
   "source": [
    "10-fold cross validation"
   ]
  },
  {
   "cell_type": "code",
   "execution_count": 79,
   "id": "2c140423",
   "metadata": {},
   "outputs": [],
   "source": [
    "reg = LassoCV(cv=10, normalize=False).fit(X_train, y_train)\n",
    "training_prediction = reg.predict(X_train)\n",
    "validation_prediction = reg.predict(X_test)"
   ]
  },
  {
   "cell_type": "code",
   "execution_count": 80,
   "id": "c63f2321",
   "metadata": {},
   "outputs": [
    {
     "name": "stdout",
     "output_type": "stream",
     "text": [
      "The training R-squared is : 0.6315625160196948\n"
     ]
    }
   ],
   "source": [
    "rss = sum((training_prediction-y_train)**2)\n",
    "tss = sum((y_train - (sum(y_train)/len(y_train)))**2)\n",
    "rsq = 1 - (rss/tss)\n",
    "print('The training R-squared is :', rsq)"
   ]
  },
  {
   "cell_type": "code",
   "execution_count": 81,
   "id": "2c4b2136",
   "metadata": {},
   "outputs": [
    {
     "name": "stdout",
     "output_type": "stream",
     "text": [
      "The validation R-squared is : 0.5761903999867041\n"
     ]
    }
   ],
   "source": [
    "rss = sum((validation_prediction-y_test)**2)\n",
    "tss = sum((y_test - (sum(y_test)/len(y_test)))**2)\n",
    "rsq = 1 - (rss/tss)\n",
    "print('The validation R-squared is :', rsq)"
   ]
  },
  {
   "cell_type": "markdown",
   "id": "250d2f5a",
   "metadata": {},
   "source": [
    "Even though training R-squared here is much lower, the Lasso model performs better on the validation set"
   ]
  },
  {
   "cell_type": "markdown",
   "id": "6423c8fc",
   "metadata": {},
   "source": [
    "# Random Forest"
   ]
  },
  {
   "cell_type": "code",
   "execution_count": 82,
   "id": "d4406410",
   "metadata": {},
   "outputs": [],
   "source": [
    "from sklearn.ensemble import RandomForestRegressor"
   ]
  },
  {
   "cell_type": "markdown",
   "id": "0c549987",
   "metadata": {},
   "source": [
    "Start with a max depth of 20, which is arbitrary."
   ]
  },
  {
   "cell_type": "code",
   "execution_count": 121,
   "id": "951834b6",
   "metadata": {},
   "outputs": [],
   "source": [
    "regr = RandomForestRegressor(max_depth=20, random_state=0)\n",
    "regr.fit(X_train, y_train)\n",
    "training_prediction = regr.predict(X_train)\n",
    "validation_prediction = regr.predict(X_test)"
   ]
  },
  {
   "cell_type": "code",
   "execution_count": 122,
   "id": "976a2dd0",
   "metadata": {},
   "outputs": [
    {
     "name": "stdout",
     "output_type": "stream",
     "text": [
      "The training R-squared is : 0.9326960383177906\n"
     ]
    }
   ],
   "source": [
    "rss = sum((training_prediction-y_train)**2)\n",
    "tss = sum((y_train - (sum(y_train)/len(y_train)))**2)\n",
    "rsq = 1 - (rss/tss)\n",
    "print('The training R-squared is :', rsq)"
   ]
  },
  {
   "cell_type": "code",
   "execution_count": 123,
   "id": "54793f66",
   "metadata": {},
   "outputs": [
    {
     "name": "stdout",
     "output_type": "stream",
     "text": [
      "The validation R-squared is : 0.5081193374782587\n"
     ]
    }
   ],
   "source": [
    "rss = sum((validation_prediction-y_test)**2)\n",
    "tss = sum((y_test - (sum(y_test)/len(y_test)))**2)\n",
    "rsq = 1 - (rss/tss)\n",
    "print('The validation R-squared is :', rsq)"
   ]
  },
  {
   "cell_type": "markdown",
   "id": "bdc6b9cd",
   "metadata": {},
   "source": [
    "Performance is similar to that of Neural Network's. Let's check which value of max depth returns the lowest validation R-squared value"
   ]
  },
  {
   "cell_type": "code",
   "execution_count": 88,
   "id": "21045492",
   "metadata": {},
   "outputs": [],
   "source": [
    "training_array = []\n",
    "validation_array = []\n",
    "for i in range(1,20):\n",
    "    regr = RandomForestRegressor(max_depth=i, random_state=0)\n",
    "    regr.fit(X_train, y_train)\n",
    "    training_prediction = regr.predict(X_train)\n",
    "    validation_prediction = regr.predict(X_test)\n",
    "    \n",
    "    rss = sum((training_prediction-y_train)**2)\n",
    "    tss = sum((y_train - (sum(y_train)/len(y_train)))**2)\n",
    "    rsq = 1 - (rss/tss)\n",
    "    training_array.append(rsq)\n",
    "    \n",
    "    rss = sum((validation_prediction-y_test)**2)\n",
    "    tss = sum((y_test - (sum(y_test)/len(y_test)))**2)\n",
    "    rsq = 1 - (rss/tss)\n",
    "    validation_array.append(rsq)"
   ]
  },
  {
   "cell_type": "code",
   "execution_count": 93,
   "id": "9a466975",
   "metadata": {},
   "outputs": [],
   "source": [
    "import matplotlib.pyplot as plt"
   ]
  },
  {
   "cell_type": "code",
   "execution_count": 124,
   "id": "41644f5b",
   "metadata": {},
   "outputs": [
    {
     "data": {
      "image/png": "[encoded data removed]",
      "text/plain": [
       "<Figure size 432x288 with 1 Axes>"
      ]
     },
     "metadata": {
      "needs_background": "light"
     },
     "output_type": "display_data"
    }
   ],
   "source": [
    "plt.plot(range(1,20), validation_array, label = 'Validation R-squared')\n",
    "plt.plot(range(1,20), training_array, label = 'Training R-squared')\n",
    "plt.title('Training and Validation R-squared against Max Depth')\n",
    "plt.xlabel('Max Depth')\n",
    "plt.ylabel('R-squared')\n",
    "plt.legend()\n",
    "plt.show()"
   ]
  },
  {
   "cell_type": "markdown",
   "id": "c7778d58",
   "metadata": {},
   "source": [
    "Once the max depth hits 10, validation R-squared is pretty much constant. Thus I will check what's the exact R-squared value for a Random Forest with max depth of 10."
   ]
  },
  {
   "cell_type": "code",
   "execution_count": 118,
   "id": "83d8a173",
   "metadata": {},
   "outputs": [],
   "source": [
    "regr2 = RandomForestRegressor(max_depth=10, random_state=0)\n",
    "regr2.fit(X_train, y_train)\n",
    "training_prediction = regr2.predict(X_train)\n",
    "validation_prediction = regr2.predict(X_test)"
   ]
  },
  {
   "cell_type": "code",
   "execution_count": 119,
   "id": "2a2715b0",
   "metadata": {},
   "outputs": [
    {
     "name": "stdout",
     "output_type": "stream",
     "text": [
      "The training R-squared is : 0.9191561864229907\n"
     ]
    }
   ],
   "source": [
    "rss = sum((training_prediction-y_train)**2)\n",
    "tss = sum((y_train - (sum(y_train)/len(y_train)))**2)\n",
    "rsq = 1 - (rss/tss)\n",
    "print('The training R-squared is :', rsq)"
   ]
  },
  {
   "cell_type": "code",
   "execution_count": 120,
   "id": "0063efd9",
   "metadata": {},
   "outputs": [
    {
     "name": "stdout",
     "output_type": "stream",
     "text": [
      "The validation R-squared is : 0.5071896303474293\n"
     ]
    }
   ],
   "source": [
    "rss = sum((validation_prediction-y_test)**2)\n",
    "tss = sum((y_test - (sum(y_test)/len(y_test)))**2)\n",
    "rsq = 1 - (rss/tss)\n",
    "print('The validation R-squared is :', rsq)"
   ]
  },
  {
   "cell_type": "markdown",
   "id": "fc1a358e",
   "metadata": {},
   "source": [
    "Validation R-squared is almost the same as that of max depth 20, but training R-squared has reduced."
   ]
  },
  {
   "cell_type": "markdown",
   "id": "d5a478a0",
   "metadata": {},
   "source": [
    "# Running the chosen model on the test set for my final predictions"
   ]
  },
  {
   "cell_type": "markdown",
   "id": "e104ab2e",
   "metadata": {},
   "source": [
    "Since the model will be assessed using a test set with no response, choosing the model with the highest validation, not training, R-squared should be the way to go.\n",
    "\n",
    "Based on the 3 above models, Lasso had the highest validation R-squared. \n"
   ]
  },
  {
   "cell_type": "code",
   "execution_count": 106,
   "id": "5e5e4d81",
   "metadata": {},
   "outputs": [],
   "source": [
    "final_preds = pd.DataFrame(reg.predict(test.drop(['X40','X55'],axis = 1)))"
   ]
  },
  {
   "cell_type": "code",
   "execution_count": 107,
   "id": "3e07e2bc",
   "metadata": {},
   "outputs": [
    {
     "data": {
      "text/html": [
       "<div>\n",
       "<style scoped>\n",
       "    .dataframe tbody tr th:only-of-type {\n",
       "        vertical-align: middle;\n",
       "    }\n",
       "\n",
       "    .dataframe tbody tr th {\n",
       "        vertical-align: top;\n",
       "    }\n",
       "\n",
       "    .dataframe thead th {\n",
       "        text-align: right;\n",
       "    }\n",
       "</style>\n",
       "<table border=\"1\" class=\"dataframe\">\n",
       "  <thead>\n",
       "    <tr style=\"text-align: right;\">\n",
       "      <th></th>\n",
       "      <th>Y</th>\n",
       "    </tr>\n",
       "  </thead>\n",
       "  <tbody>\n",
       "    <tr>\n",
       "      <th>0</th>\n",
       "      <td>-2.218286</td>\n",
       "    </tr>\n",
       "    <tr>\n",
       "      <th>1</th>\n",
       "      <td>0.075417</td>\n",
       "    </tr>\n",
       "    <tr>\n",
       "      <th>2</th>\n",
       "      <td>1.876225</td>\n",
       "    </tr>\n",
       "    <tr>\n",
       "      <th>3</th>\n",
       "      <td>10.984139</td>\n",
       "    </tr>\n",
       "    <tr>\n",
       "      <th>4</th>\n",
       "      <td>8.148008</td>\n",
       "    </tr>\n",
       "    <tr>\n",
       "      <th>...</th>\n",
       "      <td>...</td>\n",
       "    </tr>\n",
       "    <tr>\n",
       "      <th>9995</th>\n",
       "      <td>6.639682</td>\n",
       "    </tr>\n",
       "    <tr>\n",
       "      <th>9996</th>\n",
       "      <td>-2.066169</td>\n",
       "    </tr>\n",
       "    <tr>\n",
       "      <th>9997</th>\n",
       "      <td>-0.011487</td>\n",
       "    </tr>\n",
       "    <tr>\n",
       "      <th>9998</th>\n",
       "      <td>5.032062</td>\n",
       "    </tr>\n",
       "    <tr>\n",
       "      <th>9999</th>\n",
       "      <td>-6.029369</td>\n",
       "    </tr>\n",
       "  </tbody>\n",
       "</table>\n",
       "<p>10000 rows × 1 columns</p>\n",
       "</div>"
      ],
      "text/plain": [
       "              Y\n",
       "0     -2.218286\n",
       "1      0.075417\n",
       "2      1.876225\n",
       "3     10.984139\n",
       "4      8.148008\n",
       "...         ...\n",
       "9995   6.639682\n",
       "9996  -2.066169\n",
       "9997  -0.011487\n",
       "9998   5.032062\n",
       "9999  -6.029369\n",
       "\n",
       "[10000 rows x 1 columns]"
      ]
     },
     "execution_count": 107,
     "metadata": {},
     "output_type": "execute_result"
    }
   ],
   "source": [
    "final_preds.columns = ['Y']\n",
    "final_preds"
   ]
  },
  {
   "cell_type": "code",
   "execution_count": 110,
   "id": "90d2bcbf",
   "metadata": {},
   "outputs": [],
   "source": [
    "path = '/Users/jasinchow/Downloads/A0204765A.csv'\n",
    "final_preds.to_csv(path, index = False)"
   ]
  }
 ],
 "metadata": {
  "kernelspec": {
   "display_name": "Python 3 (ipykernel)",
   "language": "python",
   "name": "python3"
  },
  "language_info": {
   "codemirror_mode": {
    "name": "ipython",
    "version": 3
   },
   "file_extension": ".py",
   "mimetype": "text/x-python",
   "name": "python",
   "nbconvert_exporter": "python",
   "pygments_lexer": "ipython3",
   "version": "3.8.8"
  }
 },
 "nbformat": 4,
 "nbformat_minor": 5
}
